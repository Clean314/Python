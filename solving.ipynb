{
 "cells": [
  {
   "cell_type": "code",
   "execution_count": null,
   "metadata": {},
   "outputs": [],
   "source": [
    "#1\n",
    "print(\"(^-^)\")\n",
    "print(\"(-.-)\")"
   ]
  },
  {
   "cell_type": "code",
   "execution_count": 2,
   "metadata": {},
   "outputs": [
    {
     "name": "stdout",
     "output_type": "stream",
     "text": [
      "안녕하세요\n",
      " 저는 OOO입니다.\n"
     ]
    }
   ],
   "source": [
    "#2\n",
    "print(\"안녕하세요\\n 저는 OOO입니다.\")"
   ]
  },
  {
   "cell_type": "code",
   "execution_count": 3,
   "metadata": {},
   "outputs": [
    {
     "name": "stdout",
     "output_type": "stream",
     "text": [
      "20+10=30\n"
     ]
    }
   ],
   "source": [
    "#3\n",
    "a=20\n",
    "b=10\n",
    "print(f\"{a}+{b}={a+b}\")"
   ]
  },
  {
   "cell_type": "code",
   "execution_count": 10,
   "metadata": {},
   "outputs": [
    {
     "name": "stdout",
     "output_type": "stream",
     "text": [
      "a=3.140,b=   20\n"
     ]
    }
   ],
   "source": [
    "#4\n",
    "x, y = 3.14, 20\n",
    "print(\"a=%.3f,b=%5d\"%(x, y))"
   ]
  },
  {
   "cell_type": "code",
   "execution_count": 14,
   "metadata": {},
   "outputs": [
    {
     "name": "stdout",
     "output_type": "stream",
     "text": [
      "30\n",
      "10\n",
      "200\n",
      "2.0\n",
      "1\n"
     ]
    }
   ],
   "source": [
    "#5\n",
    "print(20+10)\n",
    "print(20-10)\n",
    "print(20*10)\n",
    "print(20/10)\n",
    "print(10%3)"
   ]
  },
  {
   "cell_type": "code",
   "execution_count": null,
   "metadata": {},
   "outputs": [
    {
     "name": "stdout",
     "output_type": "stream",
     "text": [
      "1051010.0501\n"
     ]
    }
   ],
   "source": [
    "#6\n",
    "print(1000000*(1+0.01)**5)"
   ]
  },
  {
   "cell_type": "code",
   "execution_count": 3,
   "metadata": {},
   "outputs": [
    {
     "name": "stdout",
     "output_type": "stream",
     "text": [
      "13750.0\n"
     ]
    }
   ],
   "source": [
    "#7\n",
    "print(2500*(1+0.1)*5)"
   ]
  },
  {
   "cell_type": "code",
   "execution_count": 5,
   "metadata": {},
   "outputs": [
    {
     "name": "stdout",
     "output_type": "stream",
     "text": [
      "원주= 62.800000000000004\n",
      "면적= 314.0\n"
     ]
    }
   ],
   "source": [
    "#8\n",
    "pi = 3.14\n",
    "r = 10\n",
    "c = 2*pi*r \n",
    "s = pi*r**2\n",
    "\n",
    "print('원주=',c)\n",
    "print('면적=',s)"
   ]
  },
  {
   "cell_type": "code",
   "execution_count": 10,
   "metadata": {},
   "outputs": [
    {
     "name": "stdout",
     "output_type": "stream",
     "text": [
      "합계=5050\n"
     ]
    }
   ],
   "source": [
    "#9\n",
    "print(f\"합계={sum([i for i in range(1, 101)])}\")"
   ]
  },
  {
   "cell_type": "code",
   "execution_count": null,
   "metadata": {},
   "outputs": [
    {
     "name": "stdout",
     "output_type": "stream",
     "text": [
      "2^4=16\n"
     ]
    }
   ],
   "source": [
    "#10\n",
    "n = 4\n",
    "p = 1\n",
    "for i in range(n) :\n",
    "   p *= 2\n",
    "print(f'2^{n:d}={p:d}') "
   ]
  },
  {
   "cell_type": "code",
   "execution_count": null,
   "metadata": {},
   "outputs": [
    {
     "name": "stdout",
     "output_type": "stream",
     "text": [
      "1020\n"
     ]
    }
   ],
   "source": [
    "#11\n",
    "a = input(\"값a?\")\n",
    "b = input(\"값b?\")\n",
    "print(a + b)"
   ]
  },
  {
   "cell_type": "code",
   "execution_count": null,
   "metadata": {},
   "outputs": [
    {
     "name": "stdout",
     "output_type": "stream",
     "text": [
      "30\n"
     ]
    }
   ],
   "source": [
    "#12\n",
    "a = int(input(\"값a?\"))\n",
    "b = int(input(\"값b?\"))\n",
    "print(a + b)"
   ]
  },
  {
   "cell_type": "code",
   "execution_count": 17,
   "metadata": {},
   "outputs": [
    {
     "name": "stdout",
     "output_type": "stream",
     "text": [
      "1020\n"
     ]
    }
   ],
   "source": [
    "#13\n",
    "a = input(\"값a\")\n",
    "b = input(\"값b\")\n",
    "print(a + b)"
   ]
  },
  {
   "cell_type": "code",
   "execution_count": 22,
   "metadata": {},
   "outputs": [
    {
     "name": "stdout",
     "output_type": "stream",
     "text": [
      "**********\n",
      "**********\n",
      "**********\n"
     ]
    }
   ],
   "source": [
    "#14\n",
    "for i in range(3):\n",
    "    for j in range(10):\n",
    "        print('*', end=\"\")\n",
    "    print()"
   ]
  },
  {
   "cell_type": "code",
   "execution_count": null,
   "metadata": {},
   "outputs": [
    {
     "name": "stdout",
     "output_type": "stream",
     "text": [
      "*\n",
      "**\n",
      "***\n",
      "****\n"
     ]
    }
   ],
   "source": [
    "#15\n",
    "for i in range(1,5):\n",
    "    for j in range(i):\n",
    "        print('*',end='')\n",
    "    print()"
   ]
  },
  {
   "cell_type": "code",
   "execution_count": 24,
   "metadata": {},
   "outputs": [
    {
     "name": "stdout",
     "output_type": "stream",
     "text": [
      "*\n",
      "**\n",
      "***\n",
      "****\n"
     ]
    }
   ],
   "source": [
    "# 16\n",
    "for i in range(1,5):\n",
    "    for j in range(i):\n",
    "        print('*',end='')\n",
    "    print()"
   ]
  },
  {
   "cell_type": "code",
   "execution_count": 42,
   "metadata": {},
   "outputs": [
    {
     "name": "stdout",
     "output_type": "stream",
     "text": [
      "2X1=2\n",
      "2X2=4\n",
      "2X3=6\n",
      "2X4=8\n",
      "2X5=10\n",
      "2X6=12\n",
      "2X7=14\n",
      "2X8=16\n",
      "2X9=18\n",
      "#  1단  ##  2단  ##  3단  ##  4단  ##  5단  ##  6단  ##  7단  ##  8단  ##  9단  #\n",
      "2X 1 =  2 3X 1 =  3 4X 1 =  4 5X 1 =  5 6X 1 =  6 7X 1 =  7 8X 1 =  8 9X 1 =  9 \n",
      "2X 2 =  4 3X 2 =  6 4X 2 =  8 5X 2 = 10 6X 2 = 12 7X 2 = 14 8X 2 = 16 9X 2 = 18 \n",
      "2X 3 =  6 3X 3 =  9 4X 3 = 12 5X 3 = 15 6X 3 = 18 7X 3 = 21 8X 3 = 24 9X 3 = 27 \n",
      "2X 4 =  8 3X 4 = 12 4X 4 = 16 5X 4 = 20 6X 4 = 24 7X 4 = 28 8X 4 = 32 9X 4 = 36 \n",
      "2X 5 = 10 3X 5 = 15 4X 5 = 20 5X 5 = 25 6X 5 = 30 7X 5 = 35 8X 5 = 40 9X 5 = 45 \n",
      "2X 6 = 12 3X 6 = 18 4X 6 = 24 5X 6 = 30 6X 6 = 36 7X 6 = 42 8X 6 = 48 9X 6 = 54 \n",
      "2X 7 = 14 3X 7 = 21 4X 7 = 28 5X 7 = 35 6X 7 = 42 7X 7 = 49 8X 7 = 56 9X 7 = 63 \n",
      "2X 8 = 16 3X 8 = 24 4X 8 = 32 5X 8 = 40 6X 8 = 48 7X 8 = 56 8X 8 = 64 9X 8 = 72 \n",
      "2X 9 = 18 3X 9 = 27 4X 9 = 36 5X 9 = 45 6X 9 = 54 7X 9 = 63 8X 9 = 72 9X 9 = 81 \n"
     ]
    }
   ],
   "source": [
    "#17\n",
    "for i in range(1, 10) :\n",
    "    print(f\"{2}X{i}={2*i}\")\n",
    "\n",
    "for i in range(1, 10) :\n",
    "    print(\"#  %d단  #\"%i, end=\"\")\n",
    "print()\n",
    "for i in range(1, 10) :\n",
    "    for j in range(2, 10) :\n",
    "        print(\"%1dX %1d = %2d\"%(j, i, j*i), end=\" \")\n",
    "    print()"
   ]
  },
  {
   "cell_type": "code",
   "execution_count": 48,
   "metadata": {},
   "outputs": [
    {
     "name": "stdout",
     "output_type": "stream",
     "text": [
      "현재 재고: {'apple': 10, 'banana': 5, 'orange': 8}\n",
      "mango 는 재고가 없습니다.\n"
     ]
    }
   ],
   "source": [
    "#18\n",
    "fruits = {\n",
    "    'apple' : 10,\n",
    "    'banana' : 5,\n",
    "    'orange' : 8\n",
    "}\n",
    "\n",
    "print(\"현재 재고:\",fruits)\n",
    "name = input(\"과일 이름을 입력하세요: \")\n",
    "print(name, \"의 재고는 %d개입니다.\"%(fruits[name]) if name in fruits else \"는 재고가 없습니다.\")"
   ]
  }
 ],
 "metadata": {
  "kernelspec": {
   "display_name": "Python 3",
   "language": "python",
   "name": "python3"
  },
  "language_info": {
   "codemirror_mode": {
    "name": "ipython",
    "version": 3
   },
   "file_extension": ".py",
   "mimetype": "text/x-python",
   "name": "python",
   "nbconvert_exporter": "python",
   "pygments_lexer": "ipython3",
   "version": "3.13.1"
  }
 },
 "nbformat": 4,
 "nbformat_minor": 2
}
