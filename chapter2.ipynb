{
 "cells": [
  {
   "cell_type": "code",
   "execution_count": 2,
   "metadata": {},
   "outputs": [
    {
     "name": "stdout",
     "output_type": "stream",
     "text": [
      "asdf\n"
     ]
    }
   ],
   "source": [
    "print(\"asdf\")"
   ]
  },
  {
   "cell_type": "code",
   "execution_count": null,
   "metadata": {},
   "outputs": [],
   "source": [
    "a = input(\"name : \")"
   ]
  },
  {
   "cell_type": "code",
   "execution_count": 3,
   "metadata": {},
   "outputs": [
    {
     "name": "stdout",
     "output_type": "stream",
     "text": [
      "<class 'int'>\n",
      "<class 'str'>\n",
      "<class 'bool'>\n",
      "<class 'float'>\n"
     ]
    }
   ],
   "source": [
    "a = 0\n",
    "b = \"\"\n",
    "c = True\n",
    "d = 0.0\n",
    "\n",
    "print(type(a))\n",
    "print(type(b))\n",
    "print(type(c))\n",
    "print(type(d))"
   ]
  },
  {
   "cell_type": "code",
   "execution_count": 5,
   "metadata": {},
   "outputs": [
    {
     "name": "stdout",
     "output_type": "stream",
     "text": [
      "100 100 100 100\n"
     ]
    }
   ],
   "source": [
    "var1 = var2 = var3 = var4 = 100\n",
    "print(var1, var2, var3, var4)"
   ]
  },
  {
   "cell_type": "code",
   "execution_count": 6,
   "metadata": {},
   "outputs": [],
   "source": [
    "bin(11); bin(0o11); bin(0x11);\n",
    "oct(11); oct(0o11); oct(0x11);\n",
    "hex(11); hex(0o11); hex(0x11);"
   ]
  },
  {
   "cell_type": "code",
   "execution_count": 7,
   "metadata": {},
   "outputs": [
    {
     "name": "stdout",
     "output_type": "stream",
     "text": [
      "255 63 15\n"
     ]
    }
   ],
   "source": [
    "a = 0xFF\n",
    "b = 0o77\n",
    "c = 0b1111\n",
    "print(a, b, c)"
   ]
  },
  {
   "cell_type": "code",
   "execution_count": 8,
   "metadata": {},
   "outputs": [
    {
     "name": "stdout",
     "output_type": "stream",
     "text": [
      "3.14 314000.0\n"
     ]
    }
   ],
   "source": [
    "a = 3.14\n",
    "b = 3.14e5\n",
    "print(a, b)"
   ]
  },
  {
   "cell_type": "code",
   "execution_count": 9,
   "metadata": {},
   "outputs": [
    {
     "name": "stdout",
     "output_type": "stream",
     "text": [
      "30\n",
      "-10\n",
      "200\n",
      "0.5\n",
      "0\n",
      "10\n",
      "100000000000000000000\n"
     ]
    }
   ],
   "source": [
    "a = 10\n",
    "b = 20\n",
    "print(a+b)\n",
    "print(a-b)\n",
    "print(a*b)\n",
    "print(a/b)\n",
    "print(a//b)\n",
    "print(a%b)\n",
    "print(a**b)"
   ]
  },
  {
   "cell_type": "code",
   "execution_count": 10,
   "metadata": {},
   "outputs": [
    {
     "name": "stdout",
     "output_type": "stream",
     "text": [
      "True False\n"
     ]
    }
   ],
   "source": [
    "a = (100 == 100)\n",
    "b = (10 > 100)\n",
    "print(a, b)"
   ]
  },
  {
   "cell_type": "code",
   "execution_count": 14,
   "metadata": {},
   "outputs": [
    {
     "name": "stdout",
     "output_type": "stream",
     "text": [
      "500원 15개\n",
      "100원 2개\n",
      "50원 1개\n",
      "10원 2개\n",
      "잔돈 7원\n"
     ]
    }
   ],
   "source": [
    "money = int(input(\"교환할 돈 : \"))\n",
    "\n",
    "\n",
    "print(\"500원 %d개\"%(money//500))\n",
    "money %= 500\n",
    "\n",
    "print(\"100원 %d개\"%(money//100))\n",
    "money %= 100\n",
    "\n",
    "print(\"50원 %d개\"%(money//50))\n",
    "money %= 50\n",
    "\n",
    "print(\"10원 %d개\"%(money//10))\n",
    "money %= 10\n",
    "\n",
    "print(\"잔돈 %d원\"%money)"
   ]
  },
  {
   "cell_type": "code",
   "execution_count": 15,
   "metadata": {},
   "outputs": [
    {
     "name": "stdout",
     "output_type": "stream",
     "text": [
      "500원 15개\n",
      "100원 2개\n",
      "50원 1개\n",
      "10원 2개\n",
      "잔돈 7원\n"
     ]
    }
   ],
   "source": [
    "remains = [500, 100, 50, 10]\n",
    "money = int(input())\n",
    "\n",
    "for remain in remains :\n",
    "    print(\"%d원 %d개\"%(remain, money//remain))\n",
    "    money %= remain\n",
    "\n",
    "print(\"잔돈 %d원\"%money)"
   ]
  }
 ],
 "metadata": {
  "kernelspec": {
   "display_name": "Python 3",
   "language": "python",
   "name": "python3"
  },
  "language_info": {
   "codemirror_mode": {
    "name": "ipython",
    "version": 3
   },
   "file_extension": ".py",
   "mimetype": "text/x-python",
   "name": "python",
   "nbconvert_exporter": "python",
   "pygments_lexer": "ipython3",
   "version": "3.13.0"
  }
 },
 "nbformat": 4,
 "nbformat_minor": 2
}
