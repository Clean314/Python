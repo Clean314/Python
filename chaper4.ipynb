{
 "cells": [
  {
   "cell_type": "code",
   "execution_count": 1,
   "metadata": {},
   "outputs": [],
   "source": [
    "a = 200\n",
    "if a < 100 :\n",
    "    print(a)\n"
   ]
  },
  {
   "cell_type": "code",
   "execution_count": 2,
   "metadata": {},
   "outputs": [
    {
     "name": "stdout",
     "output_type": "stream",
     "text": [
      "False\n"
     ]
    }
   ],
   "source": [
    "a = 300\n",
    "print(a < 100)"
   ]
  },
  {
   "cell_type": "code",
   "execution_count": 6,
   "metadata": {},
   "outputs": [
    {
     "name": "stdout",
     "output_type": "stream",
     "text": [
      "짝수\n"
     ]
    }
   ],
   "source": [
    "if int(input()) % 2 :\n",
    "    print(\"홀수\")\n",
    "else :\n",
    "    print(\"짝수\")"
   ]
  },
  {
   "cell_type": "code",
   "execution_count": 9,
   "metadata": {},
   "outputs": [
    {
     "name": "stdout",
     "output_type": "stream",
     "text": [
      "짝수\n"
     ]
    }
   ],
   "source": [
    "print(\"홀수\" if int(input())%2 else \"짝수\")"
   ]
  },
  {
   "cell_type": "code",
   "execution_count": 3,
   "metadata": {},
   "outputs": [
    {
     "name": "stdout",
     "output_type": "stream",
     "text": [
      "B+ 학점입니다.\n"
     ]
    }
   ],
   "source": [
    "score = \"\"\n",
    "num = int(input())\n",
    "\n",
    "if  num >= 95 :\n",
    "    score = \"A+\"\n",
    "elif num >= 90 :\n",
    "    score = \"A0\"\n",
    "elif num >= 85 :\n",
    "    score = \"B+\"\n",
    "elif num >= 80 :\n",
    "    score = \"B0\"\n",
    "elif num >= 75 :\n",
    "    score = \"C+\"\n",
    "elif num >= 70 :\n",
    "    score = \"C0\"\n",
    "elif num >= 65 :\n",
    "    score = \"D+\"\n",
    "elif num >= 60 :\n",
    "    score = \"D0\"\n",
    "else :\n",
    "    score = \"F\"\n",
    "\n",
    "print(score, \"학점입니다.\")"
   ]
  },
  {
   "cell_type": "code",
   "execution_count": null,
   "metadata": {},
   "outputs": [
    {
     "name": "stdout",
     "output_type": "stream",
     "text": [
      "잘못된 나이입니다.\n"
     ]
    }
   ],
   "source": [
    "\n",
    "age = int(input())\n",
    "res = \"\"\n",
    "\n",
    "if age < 0 :\n",
    "    res = \"잘못된 나이\"\n",
    "elif age < 13 :\n",
    "    res = \"어린이\"\n",
    "elif age < 20 :\n",
    "    res = \"청소년\"\n",
    "elif age < 60 :\n",
    "    res = \"성인\"\n",
    "else :\n",
    "    res = \"노년\"\n",
    "\n",
    "print(res+\"입니다.\")\n",
    "\n",
    "# age >= 20 and age < 60"
   ]
  },
  {
   "cell_type": "code",
   "execution_count": 12,
   "metadata": {},
   "outputs": [
    {
     "name": "stdout",
     "output_type": "stream",
     "text": [
      "합격\n"
     ]
    }
   ],
   "source": [
    "print(\"합격\" if int(input()) >= 60 else \"불합격\")"
   ]
  },
  {
   "cell_type": "code",
   "execution_count": 17,
   "metadata": {},
   "outputs": [
    {
     "name": "stdout",
     "output_type": "stream",
     "text": [
      "True True False\n"
     ]
    }
   ],
   "source": [
    "fruits = [\"사과\", \"배\", \"딸기\", \"포도\"]\n",
    "fruits.append(\"귤\")\n",
    "print(\"딸기\" in fruits, \"귤\" in fruits, \"수박\" in fruits)"
   ]
  },
  {
   "cell_type": "code",
   "execution_count": null,
   "metadata": {},
   "outputs": [
    {
     "name": "stdout",
     "output_type": "stream",
     "text": [
      "배열 : [5, 8, 4, 9, 7, 2, 2, 2, 8, 2] \n",
      "\n",
      "1는 배열에 없습니다.\n",
      "2는 배열에 있습니다.\n",
      "3는 배열에 없습니다.\n",
      "4는 배열에 있습니다.\n",
      "5는 배열에 있습니다.\n",
      "6는 배열에 없습니다.\n",
      "7는 배열에 있습니다.\n",
      "8는 배열에 있습니다.\n",
      "9는 배열에 있습니다.\n"
     ]
    }
   ],
   "source": [
    "import random\n",
    "nums = [random.randrange(1, 10) for x in range(10)]\n",
    "print(\"배열 :\", nums, \"\\n\")\n",
    "\n",
    "for i in range(1, 10) :\n",
    "    print(\"%d는 배열에 \"%(i) + (\"있습니다.\" if i in nums else \"없습니다.\"))"
   ]
  }
 ],
 "metadata": {
  "kernelspec": {
   "display_name": "Python 3",
   "language": "python",
   "name": "python3"
  },
  "language_info": {
   "codemirror_mode": {
    "name": "ipython",
    "version": 3
   },
   "file_extension": ".py",
   "mimetype": "text/x-python",
   "name": "python",
   "nbconvert_exporter": "python",
   "pygments_lexer": "ipython3",
   "version": "3.13.0"
  }
 },
 "nbformat": 4,
 "nbformat_minor": 2
}
