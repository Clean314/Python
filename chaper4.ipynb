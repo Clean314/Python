{
 "cells": [
  {
   "cell_type": "code",
   "execution_count": 1,
   "metadata": {},
   "outputs": [],
   "source": [
    "a = 200\n",
    "if a < 100 :\n",
    "    print(a)\n"
   ]
  },
  {
   "cell_type": "code",
   "execution_count": 2,
   "metadata": {},
   "outputs": [
    {
     "name": "stdout",
     "output_type": "stream",
     "text": [
      "False\n"
     ]
    }
   ],
   "source": [
    "a = 300\n",
    "print(a < 100)"
   ]
  },
  {
   "cell_type": "code",
   "execution_count": 6,
   "metadata": {},
   "outputs": [
    {
     "name": "stdout",
     "output_type": "stream",
     "text": [
      "짝수\n"
     ]
    }
   ],
   "source": [
    "if int(input()) % 2 :\n",
    "    print(\"홀수\")\n",
    "else :\n",
    "    print(\"짝수\")"
   ]
  },
  {
   "cell_type": "code",
   "execution_count": 9,
   "metadata": {},
   "outputs": [
    {
     "name": "stdout",
     "output_type": "stream",
     "text": [
      "짝수\n"
     ]
    }
   ],
   "source": [
    "print(\"홀수\" if int(input())%2 else \"짝수\")"
   ]
  },
  {
   "cell_type": "code",
   "execution_count": 3,
   "metadata": {},
   "outputs": [
    {
     "name": "stdout",
     "output_type": "stream",
     "text": [
      "B+ 학점입니다.\n"
     ]
    }
   ],
   "source": [
    "score = \"\"\n",
    "num = int(input())\n",
    "\n",
    "if  num >= 95 :\n",
    "    score = \"A+\"\n",
    "elif num >= 90 :\n",
    "    score = \"A0\"\n",
    "elif num >= 85 :\n",
    "    score = \"B+\"\n",
    "elif num >= 80 :\n",
    "    score = \"B0\"\n",
    "elif num >= 75 :\n",
    "    score = \"C+\"\n",
    "elif num >= 70 :\n",
    "    score = \"C0\"\n",
    "elif num >= 65 :\n",
    "    score = \"D+\"\n",
    "elif num >= 60 :\n",
    "    score = \"D0\"\n",
    "else :\n",
    "    score = \"F\"\n",
    "\n",
    "print(score, \"학점입니다.\")"
   ]
  },
  {
   "cell_type": "code",
   "execution_count": null,
   "metadata": {},
   "outputs": [
    {
     "name": "stdout",
     "output_type": "stream",
     "text": [
      "잘못된 나이입니다.\n"
     ]
    }
   ],
   "source": [
    "\n",
    "age = int(input())\n",
    "res = \"\"\n",
    "\n",
    "if age < 0 :\n",
    "    res = \"잘못된 나이\"\n",
    "elif age < 13 :\n",
    "    res = \"어린이\"\n",
    "elif age < 20 :\n",
    "    res = \"청소년\"\n",
    "elif age < 60 :\n",
    "    res = \"성인\"\n",
    "else :\n",
    "    res = \"노년\"\n",
    "\n",
    "print(res+\"입니다.\")\n",
    "\n",
    "# age >= 20 and age < 60"
   ]
  },
  {
   "cell_type": "code",
   "execution_count": 12,
   "metadata": {},
   "outputs": [
    {
     "name": "stdout",
     "output_type": "stream",
     "text": [
      "합격\n"
     ]
    }
   ],
   "source": [
    "print(\"합격\" if int(input()) >= 60 else \"불합격\")"
   ]
  },
  {
   "cell_type": "code",
   "execution_count": 17,
   "metadata": {},
   "outputs": [
    {
     "name": "stdout",
     "output_type": "stream",
     "text": [
      "True True False\n"
     ]
    }
   ],
   "source": [
    "fruits = [\"사과\", \"배\", \"딸기\", \"포도\"]\n",
    "fruits.append(\"귤\")\n",
    "print(\"딸기\" in fruits, \"귤\" in fruits, \"수박\" in fruits)"
   ]
  },
  {
   "cell_type": "code",
   "execution_count": null,
   "metadata": {},
   "outputs": [
    {
     "name": "stdout",
     "output_type": "stream",
     "text": [
      "배열 : [5, 8, 4, 9, 7, 2, 2, 2, 8, 2] \n",
      "\n",
      "1는 배열에 없습니다.\n",
      "2는 배열에 있습니다.\n",
      "3는 배열에 없습니다.\n",
      "4는 배열에 있습니다.\n",
      "5는 배열에 있습니다.\n",
      "6는 배열에 없습니다.\n",
      "7는 배열에 있습니다.\n",
      "8는 배열에 있습니다.\n",
      "9는 배열에 있습니다.\n"
     ]
    }
   ],
   "source": [
    "import random\n",
    "nums = [random.randrange(1, 10) for x in range(10)]\n",
    "print(\"배열 :\", nums, \"\\n\")\n",
    "\n",
    "for i in range(1, 10) :\n",
    "    print(\"%d는 배열에 \"%(i) + (\"있습니다.\" if i in nums else \"없습니다.\"))"
   ]
  },
  {
   "cell_type": "code",
   "execution_count": 37,
   "metadata": {},
   "outputs": [
    {
     "name": "stdout",
     "output_type": "stream",
     "text": [
      "1부터 10까지의 합은 55\n"
     ]
    }
   ],
   "source": [
    "a = int(input())\n",
    "b = int(input())\n",
    "print(\"%d부터 %d까지의 합은\"%(a, b), sum([x for x in range(a, b+1)]))"
   ]
  },
  {
   "cell_type": "code",
   "execution_count": 43,
   "metadata": {},
   "outputs": [
    {
     "name": "stdout",
     "output_type": "stream",
     "text": [
      "500부터 1000까지의 홀수의 합은 187500\n"
     ]
    }
   ],
   "source": [
    "a , b = 500, 1000\n",
    "print(\"%d부터 %d까지의 홀수의 합은\"%(a, b), sum([x if x%2 else 0 for x in range(a, b+1)]))"
   ]
  },
  {
   "cell_type": "code",
   "execution_count": 44,
   "metadata": {},
   "outputs": [
    {
     "name": "stdout",
     "output_type": "stream",
     "text": [
      "0부터 100까지의 7의 배수의 합은 735\n"
     ]
    }
   ],
   "source": [
    "a, b, n = 0, 100, 7\n",
    "print(\"%d부터 %d까지의 %d의 배수의 합은\"%(a, b, n), sum([0 if x%7 else x for x in range(a, b+1)]))"
   ]
  },
  {
   "cell_type": "code",
   "execution_count": null,
   "metadata": {},
   "outputs": [
    {
     "name": "stdout",
     "output_type": "stream",
     "text": [
      "[2단]\n",
      "2 * 1 = 2\n",
      "2 * 2 = 4\n",
      "2 * 3 = 6\n",
      "2 * 4 = 8\n",
      "2 * 5 = 10\n",
      "2 * 6 = 12\n",
      "2 * 7 = 14\n",
      "2 * 8 = 16\n",
      "2 * 9 = 18\n",
      "[3단]\n",
      "3 * 1 = 3\n",
      "3 * 2 = 6\n",
      "3 * 3 = 9\n",
      "3 * 4 = 12\n",
      "3 * 5 = 15\n",
      "3 * 6 = 18\n",
      "3 * 7 = 21\n",
      "3 * 8 = 24\n",
      "3 * 9 = 27\n",
      "[4단]\n",
      "4 * 1 = 4\n",
      "4 * 2 = 8\n",
      "4 * 3 = 12\n",
      "4 * 4 = 16\n",
      "4 * 5 = 20\n",
      "4 * 6 = 24\n",
      "4 * 7 = 28\n",
      "4 * 8 = 32\n",
      "4 * 9 = 36\n",
      "[5단]\n",
      "5 * 1 = 5\n",
      "5 * 2 = 10\n",
      "5 * 3 = 15\n",
      "5 * 4 = 20\n",
      "5 * 5 = 25\n",
      "5 * 6 = 30\n",
      "5 * 7 = 35\n",
      "5 * 8 = 40\n",
      "5 * 9 = 45\n",
      "[6단]\n",
      "6 * 1 = 6\n",
      "6 * 2 = 12\n",
      "6 * 3 = 18\n",
      "6 * 4 = 24\n",
      "6 * 5 = 30\n",
      "6 * 6 = 36\n",
      "6 * 7 = 42\n",
      "6 * 8 = 48\n",
      "6 * 9 = 54\n",
      "[7단]\n",
      "7 * 1 = 7\n",
      "7 * 2 = 14\n",
      "7 * 3 = 21\n",
      "7 * 4 = 28\n",
      "7 * 5 = 35\n",
      "7 * 6 = 42\n",
      "7 * 7 = 49\n",
      "7 * 8 = 56\n",
      "7 * 9 = 63\n",
      "[8단]\n",
      "8 * 1 = 8\n",
      "8 * 2 = 16\n",
      "8 * 3 = 24\n",
      "8 * 4 = 32\n",
      "8 * 5 = 40\n",
      "8 * 6 = 48\n",
      "8 * 7 = 56\n",
      "8 * 8 = 64\n",
      "8 * 9 = 72\n",
      "[9단]\n",
      "9 * 1 = 9\n",
      "9 * 2 = 18\n",
      "9 * 3 = 27\n",
      "9 * 4 = 36\n",
      "9 * 5 = 45\n",
      "9 * 6 = 54\n",
      "9 * 7 = 63\n",
      "9 * 8 = 72\n",
      "9 * 9 = 81\n"
     ]
    }
   ],
   "source": [
    "for i in range(2, 10) :\n",
    "    print(\"\\n[%d단]\"%i)\n",
    "    for j in range(1, 10) :\n",
    "        print(\"%d * %d = %d\"%(i, j, i*j))"
   ]
  }
 ],
 "metadata": {
  "kernelspec": {
   "display_name": "Python 3",
   "language": "python",
   "name": "python3"
  },
  "language_info": {
   "codemirror_mode": {
    "name": "ipython",
    "version": 3
   },
   "file_extension": ".py",
   "mimetype": "text/x-python",
   "name": "python",
   "nbconvert_exporter": "python",
   "pygments_lexer": "ipython3",
   "version": "3.13.0"
  }
 },
 "nbformat": 4,
 "nbformat_minor": 2
}
