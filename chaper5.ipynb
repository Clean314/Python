{
 "cells": [
  {
   "cell_type": "code",
   "execution_count": 1,
   "metadata": {},
   "outputs": [
    {
     "name": "stdout",
     "output_type": "stream",
     "text": [
      "Hello\n",
      "Hello\n",
      "Hello\n"
     ]
    }
   ],
   "source": [
    "i = 0\n",
    "while(i < 3) :\n",
    "    print(\"Hello\")\n",
    "    i += 1"
   ]
  },
  {
   "cell_type": "code",
   "execution_count": 3,
   "metadata": {},
   "outputs": [
    {
     "name": "stdout",
     "output_type": "stream",
     "text": [
      "Hello\n",
      "Hello\n",
      "Hello\n"
     ]
    }
   ],
   "source": [
    "# 위와 같음\n",
    "for _ in range(3) :\n",
    "    print(\"Hello\")"
   ]
  },
  {
   "cell_type": "code",
   "execution_count": 4,
   "metadata": {},
   "outputs": [
    {
     "name": "stdout",
     "output_type": "stream",
     "text": [
      "변수는 저장되어있다. i : 3\n"
     ]
    }
   ],
   "source": [
    "print(\"변수는 저장되어있다. i : %d\"%i)"
   ]
  },
  {
   "cell_type": "code",
   "execution_count": 5,
   "metadata": {},
   "outputs": [
    {
     "name": "stdout",
     "output_type": "stream",
     "text": [
      "55\n"
     ]
    }
   ],
   "source": [
    "sum, i = 0, 1\n",
    "while i < 11 :\n",
    "    sum += i\n",
    "    i += 1\n",
    "print(sum)"
   ]
  },
  {
   "cell_type": "code",
   "execution_count": 6,
   "metadata": {},
   "outputs": [
    {
     "name": "stdout",
     "output_type": "stream",
     "text": [
      "1 + 2 = 3\n"
     ]
    },
    {
     "ename": "ValueError",
     "evalue": "invalid literal for int() with base 10: ''",
     "output_type": "error",
     "traceback": [
      "\u001b[1;31m---------------------------------------------------------------------------\u001b[0m",
      "\u001b[1;31mValueError\u001b[0m                                Traceback (most recent call last)",
      "Cell \u001b[1;32mIn[6], line 3\u001b[0m\n\u001b[0;32m      1\u001b[0m \u001b[38;5;66;03m# 반복 계산기\u001b[39;00m\n\u001b[0;32m      2\u001b[0m \u001b[38;5;28;01mwhile\u001b[39;00m \u001b[38;5;28;01mTrue\u001b[39;00m :\n\u001b[1;32m----> 3\u001b[0m     num1 \u001b[38;5;241m=\u001b[39m \u001b[38;5;28;43mint\u001b[39;49m\u001b[43m(\u001b[49m\u001b[38;5;28;43minput\u001b[39;49m\u001b[43m(\u001b[49m\u001b[38;5;124;43m\"\u001b[39;49m\u001b[38;5;124;43mnum1 : \u001b[39;49m\u001b[38;5;124;43m\"\u001b[39;49m\u001b[43m)\u001b[49m\u001b[43m)\u001b[49m\n\u001b[0;32m      4\u001b[0m     num2 \u001b[38;5;241m=\u001b[39m \u001b[38;5;28mint\u001b[39m(\u001b[38;5;28minput\u001b[39m(\u001b[38;5;124m\"\u001b[39m\u001b[38;5;124mnum2 : \u001b[39m\u001b[38;5;124m\"\u001b[39m))\n\u001b[0;32m      5\u001b[0m     \u001b[38;5;28mprint\u001b[39m(\u001b[38;5;124m\"\u001b[39m\u001b[38;5;132;01m%d\u001b[39;00m\u001b[38;5;124m + \u001b[39m\u001b[38;5;132;01m%d\u001b[39;00m\u001b[38;5;124m = \u001b[39m\u001b[38;5;132;01m%d\u001b[39;00m\u001b[38;5;124m\"\u001b[39m\u001b[38;5;241m%\u001b[39m(num1, num2, num1\u001b[38;5;241m+\u001b[39mnum2))\n",
      "\u001b[1;31mValueError\u001b[0m: invalid literal for int() with base 10: ''"
     ]
    }
   ],
   "source": [
    "# 반복 계산기\n",
    "while True :\n",
    "    num1 = int(input(\"num1 : \"))\n",
    "    num2 = int(input(\"num2 : \"))\n",
    "    print(\"%d + %d = %d\"%(num1, num2, num1+num2))"
   ]
  },
  {
   "cell_type": "code",
   "execution_count": null,
   "metadata": {},
   "outputs": [
    {
     "name": "stdout",
     "output_type": "stream",
     "text": [
      "439 / 4893 = 0.089720\n",
      "exited\n"
     ]
    }
   ],
   "source": [
    "# 반복 연산자 break 계산기\n",
    "while True :\n",
    "    num1 = int(input(\"num1 : \"))\n",
    "    if num1 == \"$\" :\n",
    "        print(\"exited\")\n",
    "        break\n",
    "    num2 = int(input(\"num2 : \"))\n",
    "    op = input(\"operator : \")\n",
    "    res = 0.0\n",
    "\n",
    "    if op == \"+\" :\n",
    "        res = num1 + num2\n",
    "    elif op == \"-\" :\n",
    "        res = num1 - num2\n",
    "    elif op == \"*\" :\n",
    "        res = num1 * num2\n",
    "    elif op == \"/\" :\n",
    "        res = num1 / num2\n",
    "    else :\n",
    "        print(\"exited\")\n",
    "        break\n",
    "\n",
    "    print(\"%d %s %d = %f\"%(num1, op, num2, res))"
   ]
  },
  {
   "cell_type": "code",
   "execution_count": 10,
   "metadata": {},
   "outputs": [
    {
     "name": "stdout",
     "output_type": "stream",
     "text": [
      "3367\n"
     ]
    }
   ],
   "source": [
    "sum = 0\n",
    "for i in range(int(input()), int(input())) :\n",
    "    if i%3 :\n",
    "        sum += i\n",
    "print(sum)"
   ]
  },
  {
   "cell_type": "code",
   "execution_count": 11,
   "metadata": {},
   "outputs": [
    {
     "name": "stdout",
     "output_type": "stream",
     "text": [
      "3367\n"
     ]
    }
   ],
   "source": [
    "sum = 0\n",
    "for i in range(int(input()), int(input())) :\n",
    "    if not i%3 :\n",
    "        continue\n",
    "    sum += i\n",
    "print(sum)"
   ]
  },
  {
   "cell_type": "code",
   "execution_count": 14,
   "metadata": {},
   "outputs": [
    {
     "name": "stdout",
     "output_type": "stream",
     "text": [
      "['a', 'b', 'c']\n",
      "[1, 2, 3, 4]\n",
      "2\n",
      "{'name': ['a', 'b', 'c'], 'age': [1, 2, 3, 4], 'email': 'email.com'}\n",
      "{'name': ['a', 'b', 'c'], 'age': [1, 2, 3, 4]}\n"
     ]
    }
   ],
   "source": [
    "test = {\n",
    "    \"name\" : [\"a\", \"b\", \"c\"],\n",
    "    \"age\" : [1, 2, 3, 4]\n",
    "}\n",
    "\n",
    "print(test[\"name\"])\n",
    "print(test[\"age\"])\n",
    "print(test[\"age\"][1])\n",
    "\n",
    "test[\"email\"] = \"email.com\"\n",
    "\n",
    "print(test)\n",
    "\n",
    "del test[\"email\"]\n",
    "\n",
    "print(test)"
   ]
  },
  {
   "cell_type": "code",
   "execution_count": 17,
   "metadata": {},
   "outputs": [
    {
     "name": "stdout",
     "output_type": "stream",
     "text": [
      "망고 ['망고', '설탕', '나트륨']\n",
      "{'name': '망고8', 'type': '당절임', 'ingredient': ['망고', '설탕', '나트륨'], 'origin': '필리핀'}\n",
      "망고8\n"
     ]
    }
   ],
   "source": [
    "dictionary = {\n",
    "    \"name\" : \"망고\",\n",
    "    \"type\" : \"당절임\",\n",
    "    \"ingredient\" : [\"망고\", \"설탕\", \"나트륨\"],\n",
    "    \"origin\" : \"필리핀\"\n",
    "}\n",
    "\n",
    "print(dictionary[\"name\"], dictionary[\"ingredient\"])\n",
    "dictionary[\"name\"] = \"망고8\"\n",
    "\n",
    "print(dictionary)\n",
    "print(dictionary.get(\"name\"))"
   ]
  },
  {
   "cell_type": "code",
   "execution_count": 30,
   "metadata": {},
   "outputs": [
    {
     "name": "stdout",
     "output_type": "stream",
     "text": [
      "name : Alice\n",
      "age : 25\n",
      "name : Alice\n",
      "age : 30\n",
      "{'name': 'Alice', 'age': 30, 'job': 'Dev'}\n",
      "True True True True\n"
     ]
    }
   ],
   "source": [
    "person = {\n",
    "    \"name\" : \"Alice\",\n",
    "    \"age\" : 25,\n",
    "    \"city\" : \"Seoul\"\n",
    "}\n",
    "\n",
    "print(\"name :\", person[\"name\"])\n",
    "print(\"age :\", person[\"age\"])\n",
    "\n",
    "person[\"age\"] = 30\n",
    "\n",
    "print(\"name :\", person[\"name\"])\n",
    "print(\"age :\", person[\"age\"])\n",
    "\n",
    "person[\"job\"] = \"Dev\"\n",
    "del person[\"city\"]\n",
    "\n",
    "print(person)\n",
    "print(bool(person[\"name\"]), bool(person.get(\"name\")), \"name\" in person, \"Alice\" in person.values())"
   ]
  },
  {
   "cell_type": "code",
   "execution_count": 34,
   "metadata": {},
   "outputs": [
    {
     "name": "stdout",
     "output_type": "stream",
     "text": [
      "asdfqwer\n",
      "asdfasdfasdf\n",
      "4\n",
      "sd\n"
     ]
    }
   ],
   "source": [
    "text1, text2 = \"asdf\", \"qwer\"\n",
    "print(text1 + text2)\n",
    "print(text1 * 3)\n",
    "print(len(text1))\n",
    "print(text1[1:3])"
   ]
  },
  {
   "cell_type": "code",
   "execution_count": null,
   "metadata": {},
   "outputs": [
    {
     "name": "stdout",
     "output_type": "stream",
     "text": [
      "fdsa\n",
      "fs\n",
      "fd\n"
     ]
    }
   ],
   "source": [
    "print(text1[::-1])\n",
    "print(text1[::-2])\n",
    "print(text1[3:1:-1])\n",
    "\n",
    "# array[start:end:step]"
   ]
  },
  {
   "cell_type": "code",
   "execution_count": 38,
   "metadata": {},
   "outputs": [
    {
     "name": "stdout",
     "output_type": "stream",
     "text": [
      "11\n",
      "2\n",
      "2.0\n"
     ]
    }
   ],
   "source": [
    "print(str(1) + \"1\")\n",
    "print(1 + int(\"1\"))\n",
    "print(1 + float(\"1.0\"))"
   ]
  },
  {
   "cell_type": "code",
   "execution_count": 42,
   "metadata": {},
   "outputs": [
    {
     "name": "stdout",
     "output_type": "stream",
     "text": [
      "5000만원\n",
      "1 True asdf\n"
     ]
    }
   ],
   "source": [
    "print(\"{}만원\".format(5000))\n",
    "print(\"{} {} {}\".format(1, True, \"asdf\"))"
   ]
  },
  {
   "cell_type": "code",
   "execution_count": 46,
   "metadata": {},
   "outputs": [
    {
     "name": "stdout",
     "output_type": "stream",
     "text": [
      "52\n",
      "   52\n",
      "        52\n",
      "0000000052\n"
     ]
    }
   ],
   "source": [
    "print(\"{:d}\".format(52))\n",
    "print(\"{:5d}\".format(52))\n",
    "print(\"{:10d}\".format(52))\n",
    "print(\"{:010d}\".format(52))"
   ]
  },
  {
   "cell_type": "code",
   "execution_count": 49,
   "metadata": {},
   "outputs": [
    {
     "name": "stdout",
     "output_type": "stream",
     "text": [
      "asdf adsf\n",
      "asdf adsf    \n",
      "   asdf adsf\n"
     ]
    }
   ],
   "source": [
    "print(\"   asdf adsf    \".strip())\n",
    "print(\"   asdf adsf    \".lstrip())\n",
    "print(\"   asdf adsf    \".rstrip())"
   ]
  },
  {
   "cell_type": "code",
   "execution_count": 2,
   "metadata": {},
   "outputs": [],
   "source": [
    "#test"
   ]
  }
 ],
 "metadata": {
  "kernelspec": {
   "display_name": "Python 3",
   "language": "python",
   "name": "python3"
  },
  "language_info": {
   "codemirror_mode": {
    "name": "ipython",
    "version": 3
   },
   "file_extension": ".py",
   "mimetype": "text/x-python",
   "name": "python",
   "nbconvert_exporter": "python",
   "pygments_lexer": "ipython3",
   "version": "3.13.1"
  }
 },
 "nbformat": 4,
 "nbformat_minor": 2
}
