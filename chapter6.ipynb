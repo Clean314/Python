{
 "cells": [
  {
   "cell_type": "code",
   "execution_count": 1,
   "metadata": {},
   "outputs": [
    {
     "name": "stdout",
     "output_type": "stream",
     "text": [
      "# 반복문과 조합하기\n",
      "0번째 요소 : A\n",
      "1번째 요소 : B\n",
      "2번째 요소 : C\n",
      "3번째 요소 : D\n",
      "4번째 요소 : E\n",
      "5번째 요소 : F\n",
      "6번째 요소 : G\n",
      "7번째 요소 : H\n",
      "8번째 요소 : I\n",
      "9번째 요소 : J\n",
      "10번째 요소 : K\n",
      "11번째 요소 : L\n",
      "12번째 요소 : M\n",
      "13번째 요소 : N\n",
      "14번째 요소 : O\n",
      "15번째 요소 : P\n",
      "16번째 요소 : Q\n",
      "17번째 요소 : R\n",
      "18번째 요소 : S\n",
      "19번째 요소 : T\n",
      "20번째 요소 : U\n",
      "21번째 요소 : V\n",
      "22번째 요소 : W\n",
      "23번째 요소 : X\n",
      "24번째 요소 : Y\n",
      "25번째 요소 : Z\n"
     ]
    }
   ],
   "source": [
    "example_list = [chr(i) for i in range(ord('A'), ord('Z')+1)]\n",
    "\n",
    "print(\"# 반복문과 조합하기\")\n",
    "for i, value in enumerate(example_list) :\n",
    "    print(\"{}번째 요소 : {}\".format(i, value))"
   ]
  },
  {
   "cell_type": "code",
   "execution_count": 15,
   "metadata": {},
   "outputs": [
    {
     "name": "stdout",
     "output_type": "stream",
     "text": [
      "key : 0, elements: A\n",
      "key : 1, elements: B\n",
      "key : 2, elements: C\n",
      "key : 3, elements: D\n",
      "key : 4, elements: E\n",
      "key : 5, elements: F\n",
      "key : 6, elements: G\n",
      "key : 7, elements: H\n",
      "key : 8, elements: I\n",
      "key : 9, elements: J\n",
      "key : 10, elements: K\n",
      "key : 11, elements: L\n",
      "key : 12, elements: M\n",
      "key : 13, elements: N\n",
      "key : 14, elements: O\n",
      "key : 15, elements: P\n",
      "key : 16, elements: Q\n",
      "key : 17, elements: R\n",
      "key : 18, elements: S\n",
      "key : 19, elements: T\n",
      "key : 20, elements: U\n",
      "key : 21, elements: V\n",
      "key : 22, elements: W\n",
      "key : 23, elements: X\n",
      "key : 24, elements: Y\n",
      "key : 25, elements: Z\n"
     ]
    }
   ],
   "source": [
    "ex_dict = {(i-ord('A')):chr(i) for i in range(ord('A'), ord('Z')+1)}\n",
    "for key, elements in ex_dict.items() :\n",
    "    print(\"key : {}, elements: {}\".format(key, elements))"
   ]
  },
  {
   "cell_type": "code",
   "execution_count": null,
   "metadata": {},
   "outputs": [],
   "source": []
  },
  {
   "cell_type": "code",
   "execution_count": 18,
   "metadata": {},
   "outputs": [
    {
     "name": "stdout",
     "output_type": "stream",
     "text": [
      "3\n",
      "3\n",
      "3\n",
      "2\n",
      "2\n"
     ]
    }
   ],
   "source": [
    "def p(value, n=2) :\n",
    "    for i in range(n):\n",
    "        print(value)\n",
    "\n",
    "p(3, 3)\n",
    "p(2)"
   ]
  }
 ],
 "metadata": {
  "kernelspec": {
   "display_name": "Python 3",
   "language": "python",
   "name": "python3"
  },
  "language_info": {
   "codemirror_mode": {
    "name": "ipython",
    "version": 3
   },
   "file_extension": ".py",
   "mimetype": "text/x-python",
   "name": "python",
   "nbconvert_exporter": "python",
   "pygments_lexer": "ipython3",
   "version": "3.13.1"
  }
 },
 "nbformat": 4,
 "nbformat_minor": 2
}
